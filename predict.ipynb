{
 "metadata": {
  "language_info": {
   "codemirror_mode": {
    "name": "ipython",
    "version": 3
   },
   "file_extension": ".py",
   "mimetype": "text/x-python",
   "name": "python",
   "nbconvert_exporter": "python",
   "pygments_lexer": "ipython3",
   "version": "3.8.3-final"
  },
  "orig_nbformat": 2,
  "kernelspec": {
   "name": "python3",
   "display_name": "Python 3"
  }
 },
 "nbformat": 4,
 "nbformat_minor": 2,
 "cells": [
  {
   "cell_type": "code",
   "execution_count": 1,
   "metadata": {},
   "outputs": [],
   "source": [
    "#Uses the classifer created using supervised learning to classify\n",
    "#the articles from the unsupervised learning as fake or not fake\n",
    "import numpy as np\n",
    "import pandas as pd\n",
    "from sklearn.feature_extraction.text import TfidfVectorizer\n",
    "from sklearn.linear_model import PassiveAggressiveClassifier\n",
    "import pickle"
   ]
  },
  {
   "cell_type": "code",
   "execution_count": 2,
   "metadata": {},
   "outputs": [],
   "source": [
    "#Load model and vectorizer\n",
    "model = pickle.load(open('supervised/pac_nouns_removed.pkl', 'rb'))\n",
    "vectorizer = pickle.load(open('supervised/tfidf_nouns_removed.pkl', 'rb'))"
   ]
  },
  {
   "cell_type": "code",
   "execution_count": 3,
   "metadata": {},
   "outputs": [],
   "source": [
    "categorized_articles_df = pd.read_csv('unsupervised/labeled_articles.csv', index_col=0)"
   ]
  },
  {
   "cell_type": "code",
   "execution_count": 4,
   "metadata": {},
   "outputs": [],
   "source": [
    "articles = vectorizer.transform(categorized_articles_df['content'])"
   ]
  },
  {
   "cell_type": "code",
   "execution_count": 5,
   "metadata": {},
   "outputs": [],
   "source": [
    "categorized_articles_df['fake'] = model.predict(articles)"
   ]
  },
  {
   "cell_type": "code",
   "execution_count": 6,
   "metadata": {},
   "outputs": [
    {
     "output_type": "execute_result",
     "data": {
      "text/plain": [
       "      id                                              title     publication  \\\n",
       "0  17283  House Republicans Fret About Winning Their Hea...  New York Times   \n",
       "1  17284  Rift Between Officers and Residents as Killing...  New York Times   \n",
       "2  17285  Tyrus Wong, ‘Bambi’ Artist Thwarted by Racial ...  New York Times   \n",
       "3  17286  Among Deaths in 2016, a Heavy Toll in Pop Musi...  New York Times   \n",
       "4  17287  Kim Jong-un Says North Korea Is Preparing to T...  New York Times   \n",
       "\n",
       "                          author        date    year  month  url  \\\n",
       "0                     Carl Hulse  2016-12-31  2016.0   12.0  NaN   \n",
       "1  Benjamin Mueller and Al Baker  2017-06-19  2017.0    6.0  NaN   \n",
       "2                   Margalit Fox  2017-01-06  2017.0    1.0  NaN   \n",
       "3               William McDonald  2017-04-10  2017.0    4.0  NaN   \n",
       "4                  Choe Sang-Hun  2017-01-02  2017.0    1.0  NaN   \n",
       "\n",
       "                                             content  label  fake  \n",
       "0  fear health care lawsuit administration admini...      6     1  \n",
       "1  bullet shell blood dry candle people window cr...      1     1  \n",
       "2  critic style film appearance artist inspiratio...      3     0  \n",
       "3  death equalizer field endeavor loss sport deat...      3     1  \n",
       "4  leader country preparation test missile statem...      0     0  "
      ],
      "text/html": "<div>\n<style scoped>\n    .dataframe tbody tr th:only-of-type {\n        vertical-align: middle;\n    }\n\n    .dataframe tbody tr th {\n        vertical-align: top;\n    }\n\n    .dataframe thead th {\n        text-align: right;\n    }\n</style>\n<table border=\"1\" class=\"dataframe\">\n  <thead>\n    <tr style=\"text-align: right;\">\n      <th></th>\n      <th>id</th>\n      <th>title</th>\n      <th>publication</th>\n      <th>author</th>\n      <th>date</th>\n      <th>year</th>\n      <th>month</th>\n      <th>url</th>\n      <th>content</th>\n      <th>label</th>\n      <th>fake</th>\n    </tr>\n  </thead>\n  <tbody>\n    <tr>\n      <th>0</th>\n      <td>17283</td>\n      <td>House Republicans Fret About Winning Their Hea...</td>\n      <td>New York Times</td>\n      <td>Carl Hulse</td>\n      <td>2016-12-31</td>\n      <td>2016.0</td>\n      <td>12.0</td>\n      <td>NaN</td>\n      <td>fear health care lawsuit administration admini...</td>\n      <td>6</td>\n      <td>1</td>\n    </tr>\n    <tr>\n      <th>1</th>\n      <td>17284</td>\n      <td>Rift Between Officers and Residents as Killing...</td>\n      <td>New York Times</td>\n      <td>Benjamin Mueller and Al Baker</td>\n      <td>2017-06-19</td>\n      <td>2017.0</td>\n      <td>6.0</td>\n      <td>NaN</td>\n      <td>bullet shell blood dry candle people window cr...</td>\n      <td>1</td>\n      <td>1</td>\n    </tr>\n    <tr>\n      <th>2</th>\n      <td>17285</td>\n      <td>Tyrus Wong, ‘Bambi’ Artist Thwarted by Racial ...</td>\n      <td>New York Times</td>\n      <td>Margalit Fox</td>\n      <td>2017-01-06</td>\n      <td>2017.0</td>\n      <td>1.0</td>\n      <td>NaN</td>\n      <td>critic style film appearance artist inspiratio...</td>\n      <td>3</td>\n      <td>0</td>\n    </tr>\n    <tr>\n      <th>3</th>\n      <td>17286</td>\n      <td>Among Deaths in 2016, a Heavy Toll in Pop Musi...</td>\n      <td>New York Times</td>\n      <td>William McDonald</td>\n      <td>2017-04-10</td>\n      <td>2017.0</td>\n      <td>4.0</td>\n      <td>NaN</td>\n      <td>death equalizer field endeavor loss sport deat...</td>\n      <td>3</td>\n      <td>1</td>\n    </tr>\n    <tr>\n      <th>4</th>\n      <td>17287</td>\n      <td>Kim Jong-un Says North Korea Is Preparing to T...</td>\n      <td>New York Times</td>\n      <td>Choe Sang-Hun</td>\n      <td>2017-01-02</td>\n      <td>2017.0</td>\n      <td>1.0</td>\n      <td>NaN</td>\n      <td>leader country preparation test missile statem...</td>\n      <td>0</td>\n      <td>0</td>\n    </tr>\n  </tbody>\n</table>\n</div>"
     },
     "metadata": {},
     "execution_count": 6
    }
   ],
   "source": [
    "categorized_articles_df.head()"
   ]
  },
  {
   "cell_type": "code",
   "execution_count": 24,
   "metadata": {},
   "outputs": [
    {
     "output_type": "stream",
     "name": "stdout",
     "text": [
      "1    87754\n0    54632\nName: fake, dtype: int64\nPercentage of articles labeled fake: 61.63%\n"
     ]
    }
   ],
   "source": [
    "print(categorized_articles_df['fake'].value_counts())\n",
    "\n",
    "fake = categorized_articles_df[categorized_articles_df['fake'] == 1]\n",
    "real = categorized_articles_df[categorized_articles_df['fake'] == 0]\n",
    "percentage = round((len(fake.index) / len(categorized_articles_df.index)) * 100, 2)\n",
    "print(\"Percentage of articles labeled fake: {}%\".format(percentage)) "
   ]
  },
  {
   "cell_type": "code",
   "execution_count": null,
   "metadata": {},
   "outputs": [],
   "source": []
  }
 ]
}