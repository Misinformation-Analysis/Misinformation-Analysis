{
 "metadata": {
  "language_info": {
   "codemirror_mode": {
    "name": "ipython",
    "version": 3
   },
   "file_extension": ".py",
   "mimetype": "text/x-python",
   "name": "python",
   "nbconvert_exporter": "python",
   "pygments_lexer": "ipython3",
   "version": "3.8.5-final"
  },
  "orig_nbformat": 2,
  "kernelspec": {
   "name": "Python 3.8.5 64-bit ('thing': conda)",
   "display_name": "Python 3.8.5 64-bit ('thing': conda)",
   "metadata": {
    "interpreter": {
     "hash": "32be9842cd15db4961a30783b5474a7dce71c2171e2fe894d57e226b0b070611"
    }
   }
  }
 },
 "nbformat": 4,
 "nbformat_minor": 2,
 "cells": [
  {
   "cell_type": "code",
   "execution_count": 1,
   "metadata": {},
   "outputs": [],
   "source": [
    "from sklearn.datasets import load_files\n",
    "import pandas as pd\n",
    "import spacy"
   ]
  },
  {
   "cell_type": "code",
   "execution_count": 2,
   "metadata": {},
   "outputs": [],
   "source": [
    "nlp = spacy.load(\"en_core_web_sm\", disable=['parser', 'ner'])"
   ]
  },
  {
   "cell_type": "code",
   "execution_count": 3,
   "metadata": {},
   "outputs": [],
   "source": [
    "df1 = pd.read_csv('datasets/articles1.csv', index_col=0).head(500)\n",
    "df2 = pd.read_csv('datasets/articles2.csv', index_col=0).head(500)\n",
    "df3 = pd.read_csv('datasets/articles3.csv', index_col=0).head(500)\n"
   ]
  },
  {
   "cell_type": "code",
   "execution_count": 4,
   "metadata": {},
   "outputs": [
    {
     "output_type": "execute_result",
     "data": {
      "text/plain": [
       "<bound method DataFrame.count of         id                                              title     publication  \\\n",
       "0    17283  House Republicans Fret About Winning Their Hea...  New York Times   \n",
       "1    17284  Rift Between Officers and Residents as Killing...  New York Times   \n",
       "2    17285  Tyrus Wong, ‘Bambi’ Artist Thwarted by Racial ...  New York Times   \n",
       "3    17286  Among Deaths in 2016, a Heavy Toll in Pop Musi...  New York Times   \n",
       "4    17287  Kim Jong-un Says North Korea Is Preparing to T...  New York Times   \n",
       "..     ...                                                ...             ...   \n",
       "495  17846  The Guide to Being an Airbnb Superhost - The N...  New York Times   \n",
       "496  17847  The Matriarch Behind Beyoncé and Solange - The...  New York Times   \n",
       "497  17848  Quicken Loans, the New Mortgage Machine - The ...  New York Times   \n",
       "498  17849  Off Long Island, Wind Power Tests the Waters -...  New York Times   \n",
       "499  17850  Pakistani Taliban Claim Deadly Market Bombing ...  New York Times   \n",
       "\n",
       "                            author        date    year  month  url  \\\n",
       "0                       Carl Hulse  2016-12-31  2016.0   12.0  NaN   \n",
       "1    Benjamin Mueller and Al Baker  2017-06-19  2017.0    6.0  NaN   \n",
       "2                     Margalit Fox  2017-01-06  2017.0    1.0  NaN   \n",
       "3                 William McDonald  2017-04-10  2017.0    4.0  NaN   \n",
       "4                    Choe Sang-Hun  2017-01-02  2017.0    1.0  NaN   \n",
       "..                             ...         ...     ...    ...  ...   \n",
       "495                  Brian X. Chen  2017-01-12  2017.0    1.0  NaN   \n",
       "496                   Alex Hawgood  2017-01-25  2017.0    1.0  NaN   \n",
       "497                 Julie Creswell  2017-01-29  2017.0    1.0  NaN   \n",
       "498                 Diane Cardwell  2017-01-29  2017.0    1.0  NaN   \n",
       "499  Salman Masood and Ismail Khan  2017-01-21  2017.0    1.0  NaN   \n",
       "\n",
       "                                               content  \n",
       "0    WASHINGTON  —   Congressional Republicans have...  \n",
       "1    After the bullet shells get counted, the blood...  \n",
       "2    When Walt Disney’s “Bambi” opened in 1942, cri...  \n",
       "3    Death may be the great equalizer, but it isn’t...  \n",
       "4    SEOUL, South Korea  —   North Korea’s leader, ...  \n",
       "..                                                 ...  \n",
       "495  IN my spare time, when not writing about consu...  \n",
       "496  For sisters in the public eye, Beyoncé and Sol...  \n",
       "497  DETROIT  —   A low buzz fills the air as an ar...  \n",
       "498  Only a few years ago, the   dream of harnessin...  \n",
       "499  ISLAMABAD, Pakistan  —   A bombing killed at l...  \n",
       "\n",
       "[500 rows x 9 columns]>"
      ]
     },
     "metadata": {},
     "execution_count": 4
    }
   ],
   "source": [
    "df1.count\n",
    "\n",
    "\n"
   ]
  },
  {
   "cell_type": "code",
   "execution_count": 5,
   "metadata": {},
   "outputs": [
    {
     "output_type": "execute_result",
     "data": {
      "text/plain": [
       "<bound method DataFrame.count of           id                                              title publication  \\\n",
       "53293  73471  Patriots Day Is Best When It Digs Past the Her...    Atlantic   \n",
       "53294  73472  A Break in the Search for the Origin of Comple...    Atlantic   \n",
       "53295  73474         Obama’s Ingenious Mention of Atticus Finch    Atlantic   \n",
       "53296  73475         Donald Trump Meets, and Assails, the Press    Atlantic   \n",
       "53297  73476               Trump: ’I Think’ Hacking Was Russian    Atlantic   \n",
       "...      ...                                                ...         ...   \n",
       "53790  74089                           ’Give Us Your Passwords’    Atlantic   \n",
       "53791  74090                  Radicalization and the Travel Ban    Atlantic   \n",
       "53792  74091  From Legal Lows to Court-Side Foes: This Week’...    Atlantic   \n",
       "53793  74092  Katy Perry Proclaims a New Era of ’Purposeful ...    Atlantic   \n",
       "53794  74093  Trump’s Interests vs. America’s, Dominican Rep...    Atlantic   \n",
       "\n",
       "                  author        date    year  month  url  \\\n",
       "53293         David Sims  2017-01-11  2017.0    1.0  NaN   \n",
       "53294            Ed Yong  2017-01-11  2017.0    1.0  NaN   \n",
       "53295  Spencer Kornhaber  2017-01-11  2017.0    1.0  NaN   \n",
       "53296    David A. Graham  2017-01-11  2017.0    1.0  NaN   \n",
       "53297      Kaveh Waddell  2017-01-11  2017.0    1.0  NaN   \n",
       "...                  ...         ...     ...    ...  ...   \n",
       "53790      Kaveh Waddell  2017-02-10  2017.0    2.0  NaN   \n",
       "53791         Nada Bakos  2017-02-10  2017.0    2.0  NaN   \n",
       "53792     Hayley Glatter  2017-02-10  2017.0    2.0  NaN   \n",
       "53793  Spencer Kornhaber  2017-02-10  2017.0    2.0  NaN   \n",
       "53794      Jeremy Venook  2017-02-10  2017.0    2.0  NaN   \n",
       "\n",
       "                                                 content  \n",
       "53293  Patriots Day, Peter Berg’s new thriller that r...  \n",
       "53294  In Norse mythology, humans and our world were ...  \n",
       "53295  “If our democracy is to work in this increasin...  \n",
       "53296  Updated on January 11 at 5:05 p. m. In his fir...  \n",
       "53297  Updated at 12:25 p. m. After months of equivoc...  \n",
       "...                                                  ...  \n",
       "53790  That’s what U. S. Homeland Security Secretary ...  \n",
       "53791  To make his case, he   several quotes from cou...  \n",
       "53792  Ryan Avent | 1843 Magazine, Instead of increas...  \n",
       "53793  , A   disco anthem imploring the listener to d...  \n",
       "53794  As was true with the Aberdeen plans, the Trump...  \n",
       "\n",
       "[500 rows x 9 columns]>"
      ]
     },
     "metadata": {},
     "execution_count": 5
    }
   ],
   "source": [
    "df2.count"
   ]
  },
  {
   "cell_type": "code",
   "execution_count": 6,
   "metadata": {},
   "outputs": [
    {
     "output_type": "execute_result",
     "data": {
      "text/plain": [
       "<bound method DataFrame.count of             id                                              title publication  \\\n",
       "103459  151908  Alton Sterling’s son: ’Everyone needs to prote...    Guardian   \n",
       "103460  151909  Shakespeare’s first four folios sell at auctio...    Guardian   \n",
       "103461  151910  My grandmother’s death saved me from a life of...    Guardian   \n",
       "103462  151911  I feared my life lacked meaning. Cancer pushed...    Guardian   \n",
       "103463  151912  Texas man serving life sentence innocent of do...    Guardian   \n",
       "...        ...                                                ...         ...   \n",
       "103954  152565  (((Echoes))): beating the far-right, two tripl...    Guardian   \n",
       "103955  152566  I am a Muslim doctor. I saved a Christian in P...    Guardian   \n",
       "103956  152568  France 2-1 Romania: Euro 2016 opening game – a...    Guardian   \n",
       "103957  152569  The horrors of 2016 could have been stopped – ...    Guardian   \n",
       "103958  152570  Cereal Killer cafe: what will Birmingham make ...    Guardian   \n",
       "\n",
       "                 author        date    year  month  \\\n",
       "103459   Jessica Glenza  2016-07-13  2016.0    7.0   \n",
       "103460              NaN  2016-05-25  2016.0    5.0   \n",
       "103461    Robert Pendry  2016-10-31  2016.0   10.0   \n",
       "103462   Bradford Frost  2016-11-26  2016.0   11.0   \n",
       "103463              NaN  2016-08-20  2016.0    8.0   \n",
       "...                 ...         ...     ...    ...   \n",
       "103954     Zoe Williams  2016-06-12  2016.0    6.0   \n",
       "103955        Anonymous  2016-07-26  2016.0    7.0   \n",
       "103956       Paul Doyle  2017-02-20  2017.0    2.0   \n",
       "103957        Sam Kriss  2016-12-27  2016.0   12.0   \n",
       "103958  Stuart Jeffries  2016-10-13  2016.0   10.0   \n",
       "\n",
       "                                                      url  \\\n",
       "103459  https://www.theguardian.com/us-news/2016/jul/1...   \n",
       "103460  https://www.theguardian.com/culture/2016/may/2...   \n",
       "103461  https://www.theguardian.com/commentisfree/2016...   \n",
       "103462  https://www.theguardian.com/commentisfree/2016...   \n",
       "103463  https://www.theguardian.com/us-news/2016/aug/2...   \n",
       "...                                                   ...   \n",
       "103954  https://www.theguardian.com/technology/shortcu...   \n",
       "103955  https://www.theguardian.com/commentisfree/2016...   \n",
       "103956  https://www.theguardian.com/football/live/2016...   \n",
       "103957  https://www.theguardian.com/commentisfree/2016...   \n",
       "103958  https://www.theguardian.com/cities/2016/oct/13...   \n",
       "\n",
       "                                                  content  \n",
       "103459  The son of a Louisiana man whose father was sh...  \n",
       "103460  Copies of William Shakespeare’s first four boo...  \n",
       "103461  Debt: $20, 000, Source: College, credit cards,...  \n",
       "103462  It was late. I was drunk, nearing my 35th birt...  \n",
       "103463  A central Texas man serving a life sentence fo...  \n",
       "...                                                   ...  \n",
       "103954  Like many digital   (are we digital tourists? ...  \n",
       "103955  I am a Pakistani medical doctor, currently rec...  \n",
       "103956  Mission accomplished by France, who blended sl...  \n",
       "103957  There’s always a narrative. This year, it’s th...  \n",
       "103958  It’s been a year since the Cereal Killer cafe ...  \n",
       "\n",
       "[500 rows x 9 columns]>"
      ]
     },
     "metadata": {},
     "execution_count": 6
    }
   ],
   "source": [
    "df3.count"
   ]
  },
  {
   "cell_type": "code",
   "execution_count": 7,
   "metadata": {},
   "outputs": [],
   "source": [
    "def remove_nouns(texts):\n",
    "    output = []\n",
    "    for doc in nlp.pipe(texts):\n",
    "        noun_text = \" \".join(token.lemma_ for token in doc if token.pos_ == 'NOUN')\n",
    "        output.append(noun_text)\n",
    "    return output"
   ]
  },
  {
   "cell_type": "code",
   "execution_count": 62,
   "metadata": {},
   "outputs": [],
   "source": [
    "df1['content'] = remove_nouns(df1['content'])\n",
    "df2['content'] = remove_nouns(df2['content'])\n",
    "df3['content'] = remove_nouns(df3['content'])"
   ]
  },
  {
   "cell_type": "code",
   "execution_count": 63,
   "metadata": {},
   "outputs": [
    {
     "output_type": "execute_result",
     "data": {
      "text/plain": [
       "      id                                              title     publication  \\\n",
       "0  17283  House Republicans Fret About Winning Their Hea...  New York Times   \n",
       "1  17284  Rift Between Officers and Residents as Killing...  New York Times   \n",
       "2  17285  Tyrus Wong, ‘Bambi’ Artist Thwarted by Racial ...  New York Times   \n",
       "3  17286  Among Deaths in 2016, a Heavy Toll in Pop Musi...  New York Times   \n",
       "4  17287  Kim Jong-un Says North Korea Is Preparing to T...  New York Times   \n",
       "\n",
       "                          author        date    year  month  url  \\\n",
       "0                     Carl Hulse  2016-12-31  2016.0   12.0  NaN   \n",
       "1  Benjamin Mueller and Al Baker  2017-06-19  2017.0    6.0  NaN   \n",
       "2                   Margalit Fox  2017-01-06  2017.0    1.0  NaN   \n",
       "3               William McDonald  2017-04-10  2017.0    4.0  NaN   \n",
       "4                  Choe Sang-Hun  2017-01-02  2017.0    1.0  NaN   \n",
       "\n",
       "                                             content  \n",
       "0  fear health care lawsuit administration admini...  \n",
       "1  bullet shell blood dry candle people window cr...  \n",
       "2  critic style film appearance artist inspiratio...  \n",
       "3  death equalizer field endeavor loss sport deat...  \n",
       "4  leader country preparation test missile statem...  "
      ],
      "text/html": "<div>\n<style scoped>\n    .dataframe tbody tr th:only-of-type {\n        vertical-align: middle;\n    }\n\n    .dataframe tbody tr th {\n        vertical-align: top;\n    }\n\n    .dataframe thead th {\n        text-align: right;\n    }\n</style>\n<table border=\"1\" class=\"dataframe\">\n  <thead>\n    <tr style=\"text-align: right;\">\n      <th></th>\n      <th>id</th>\n      <th>title</th>\n      <th>publication</th>\n      <th>author</th>\n      <th>date</th>\n      <th>year</th>\n      <th>month</th>\n      <th>url</th>\n      <th>content</th>\n    </tr>\n  </thead>\n  <tbody>\n    <tr>\n      <th>0</th>\n      <td>17283</td>\n      <td>House Republicans Fret About Winning Their Hea...</td>\n      <td>New York Times</td>\n      <td>Carl Hulse</td>\n      <td>2016-12-31</td>\n      <td>2016.0</td>\n      <td>12.0</td>\n      <td>NaN</td>\n      <td>fear health care lawsuit administration admini...</td>\n    </tr>\n    <tr>\n      <th>1</th>\n      <td>17284</td>\n      <td>Rift Between Officers and Residents as Killing...</td>\n      <td>New York Times</td>\n      <td>Benjamin Mueller and Al Baker</td>\n      <td>2017-06-19</td>\n      <td>2017.0</td>\n      <td>6.0</td>\n      <td>NaN</td>\n      <td>bullet shell blood dry candle people window cr...</td>\n    </tr>\n    <tr>\n      <th>2</th>\n      <td>17285</td>\n      <td>Tyrus Wong, ‘Bambi’ Artist Thwarted by Racial ...</td>\n      <td>New York Times</td>\n      <td>Margalit Fox</td>\n      <td>2017-01-06</td>\n      <td>2017.0</td>\n      <td>1.0</td>\n      <td>NaN</td>\n      <td>critic style film appearance artist inspiratio...</td>\n    </tr>\n    <tr>\n      <th>3</th>\n      <td>17286</td>\n      <td>Among Deaths in 2016, a Heavy Toll in Pop Musi...</td>\n      <td>New York Times</td>\n      <td>William McDonald</td>\n      <td>2017-04-10</td>\n      <td>2017.0</td>\n      <td>4.0</td>\n      <td>NaN</td>\n      <td>death equalizer field endeavor loss sport deat...</td>\n    </tr>\n    <tr>\n      <th>4</th>\n      <td>17287</td>\n      <td>Kim Jong-un Says North Korea Is Preparing to T...</td>\n      <td>New York Times</td>\n      <td>Choe Sang-Hun</td>\n      <td>2017-01-02</td>\n      <td>2017.0</td>\n      <td>1.0</td>\n      <td>NaN</td>\n      <td>leader country preparation test missile statem...</td>\n    </tr>\n  </tbody>\n</table>\n</div>"
     },
     "metadata": {},
     "execution_count": 63
    }
   ],
   "source": [
    "df1.head()"
   ]
  },
  {
   "cell_type": "code",
   "execution_count": 64,
   "metadata": {},
   "outputs": [
    {
     "output_type": "execute_result",
     "data": {
      "text/plain": [
       "          id                                              title publication  \\\n",
       "53293  73471  Patriots Day Is Best When It Digs Past the Her...    Atlantic   \n",
       "53294  73472  A Break in the Search for the Origin of Comple...    Atlantic   \n",
       "53295  73474         Obama’s Ingenious Mention of Atticus Finch    Atlantic   \n",
       "53296  73475         Donald Trump Meets, and Assails, the Press    Atlantic   \n",
       "53297  73476               Trump: ’I Think’ Hacking Was Russian    Atlantic   \n",
       "\n",
       "                  author        date    year  month  url  \\\n",
       "53293         David Sims  2017-01-11  2017.0    1.0  NaN   \n",
       "53294            Ed Yong  2017-01-11  2017.0    1.0  NaN   \n",
       "53295  Spencer Kornhaber  2017-01-11  2017.0    1.0  NaN   \n",
       "53296    David A. Graham  2017-01-11  2017.0    1.0  NaN   \n",
       "53297      Kaveh Waddell  2017-01-11  2017.0    1.0  NaN   \n",
       "\n",
       "                                                 content  \n",
       "53293  thriller bombing manhunt movie filmmaker view ...  \n",
       "53294  mythology human world pantheon god realm story...  \n",
       "53295  democracy nation address night advice characte...  \n",
       "53296  p. m. press conference question news front con...  \n",
       "53297  p. m. month origin cyberattack election intrus...  "
      ],
      "text/html": "<div>\n<style scoped>\n    .dataframe tbody tr th:only-of-type {\n        vertical-align: middle;\n    }\n\n    .dataframe tbody tr th {\n        vertical-align: top;\n    }\n\n    .dataframe thead th {\n        text-align: right;\n    }\n</style>\n<table border=\"1\" class=\"dataframe\">\n  <thead>\n    <tr style=\"text-align: right;\">\n      <th></th>\n      <th>id</th>\n      <th>title</th>\n      <th>publication</th>\n      <th>author</th>\n      <th>date</th>\n      <th>year</th>\n      <th>month</th>\n      <th>url</th>\n      <th>content</th>\n    </tr>\n  </thead>\n  <tbody>\n    <tr>\n      <th>53293</th>\n      <td>73471</td>\n      <td>Patriots Day Is Best When It Digs Past the Her...</td>\n      <td>Atlantic</td>\n      <td>David Sims</td>\n      <td>2017-01-11</td>\n      <td>2017.0</td>\n      <td>1.0</td>\n      <td>NaN</td>\n      <td>thriller bombing manhunt movie filmmaker view ...</td>\n    </tr>\n    <tr>\n      <th>53294</th>\n      <td>73472</td>\n      <td>A Break in the Search for the Origin of Comple...</td>\n      <td>Atlantic</td>\n      <td>Ed Yong</td>\n      <td>2017-01-11</td>\n      <td>2017.0</td>\n      <td>1.0</td>\n      <td>NaN</td>\n      <td>mythology human world pantheon god realm story...</td>\n    </tr>\n    <tr>\n      <th>53295</th>\n      <td>73474</td>\n      <td>Obama’s Ingenious Mention of Atticus Finch</td>\n      <td>Atlantic</td>\n      <td>Spencer Kornhaber</td>\n      <td>2017-01-11</td>\n      <td>2017.0</td>\n      <td>1.0</td>\n      <td>NaN</td>\n      <td>democracy nation address night advice characte...</td>\n    </tr>\n    <tr>\n      <th>53296</th>\n      <td>73475</td>\n      <td>Donald Trump Meets, and Assails, the Press</td>\n      <td>Atlantic</td>\n      <td>David A. Graham</td>\n      <td>2017-01-11</td>\n      <td>2017.0</td>\n      <td>1.0</td>\n      <td>NaN</td>\n      <td>p. m. press conference question news front con...</td>\n    </tr>\n    <tr>\n      <th>53297</th>\n      <td>73476</td>\n      <td>Trump: ’I Think’ Hacking Was Russian</td>\n      <td>Atlantic</td>\n      <td>Kaveh Waddell</td>\n      <td>2017-01-11</td>\n      <td>2017.0</td>\n      <td>1.0</td>\n      <td>NaN</td>\n      <td>p. m. month origin cyberattack election intrus...</td>\n    </tr>\n  </tbody>\n</table>\n</div>"
     },
     "metadata": {},
     "execution_count": 64
    }
   ],
   "source": [
    "df2.head()"
   ]
  },
  {
   "cell_type": "code",
   "execution_count": 65,
   "metadata": {},
   "outputs": [
    {
     "output_type": "execute_result",
     "data": {
      "text/plain": [
       "            id                                              title publication  \\\n",
       "103459  151908  Alton Sterling’s son: ’Everyone needs to prote...    Guardian   \n",
       "103460  151909  Shakespeare’s first four folios sell at auctio...    Guardian   \n",
       "103461  151910  My grandmother’s death saved me from a life of...    Guardian   \n",
       "103462  151911  I feared my life lacked meaning. Cancer pushed...    Guardian   \n",
       "103463  151912  Texas man serving life sentence innocent of do...    Guardian   \n",
       "\n",
       "                author        date    year  month  \\\n",
       "103459  Jessica Glenza  2016-07-13  2016.0    7.0   \n",
       "103460             NaN  2016-05-25  2016.0    5.0   \n",
       "103461   Robert Pendry  2016-10-31  2016.0   10.0   \n",
       "103462  Bradford Frost  2016-11-26  2016.0   11.0   \n",
       "103463             NaN  2016-08-20  2016.0    8.0   \n",
       "\n",
       "                                                      url  \\\n",
       "103459  https://www.theguardian.com/us-news/2016/jul/1...   \n",
       "103460  https://www.theguardian.com/culture/2016/may/2...   \n",
       "103461  https://www.theguardian.com/commentisfree/2016...   \n",
       "103462  https://www.theguardian.com/commentisfree/2016...   \n",
       "103463  https://www.theguardian.com/us-news/2016/aug/2...   \n",
       "\n",
       "                                                  content  \n",
       "103459  son man father range police protester peace vi...  \n",
       "103460  book publishing m auction lot collector sale b...  \n",
       "103461  debt source college credit card time debt stan...  \n",
       "103462  birthday dank college dorm room school reunion...  \n",
       "103463  man life sentence murder codefendant prison st...  "
      ],
      "text/html": "<div>\n<style scoped>\n    .dataframe tbody tr th:only-of-type {\n        vertical-align: middle;\n    }\n\n    .dataframe tbody tr th {\n        vertical-align: top;\n    }\n\n    .dataframe thead th {\n        text-align: right;\n    }\n</style>\n<table border=\"1\" class=\"dataframe\">\n  <thead>\n    <tr style=\"text-align: right;\">\n      <th></th>\n      <th>id</th>\n      <th>title</th>\n      <th>publication</th>\n      <th>author</th>\n      <th>date</th>\n      <th>year</th>\n      <th>month</th>\n      <th>url</th>\n      <th>content</th>\n    </tr>\n  </thead>\n  <tbody>\n    <tr>\n      <th>103459</th>\n      <td>151908</td>\n      <td>Alton Sterling’s son: ’Everyone needs to prote...</td>\n      <td>Guardian</td>\n      <td>Jessica Glenza</td>\n      <td>2016-07-13</td>\n      <td>2016.0</td>\n      <td>7.0</td>\n      <td>https://www.theguardian.com/us-news/2016/jul/1...</td>\n      <td>son man father range police protester peace vi...</td>\n    </tr>\n    <tr>\n      <th>103460</th>\n      <td>151909</td>\n      <td>Shakespeare’s first four folios sell at auctio...</td>\n      <td>Guardian</td>\n      <td>NaN</td>\n      <td>2016-05-25</td>\n      <td>2016.0</td>\n      <td>5.0</td>\n      <td>https://www.theguardian.com/culture/2016/may/2...</td>\n      <td>book publishing m auction lot collector sale b...</td>\n    </tr>\n    <tr>\n      <th>103461</th>\n      <td>151910</td>\n      <td>My grandmother’s death saved me from a life of...</td>\n      <td>Guardian</td>\n      <td>Robert Pendry</td>\n      <td>2016-10-31</td>\n      <td>2016.0</td>\n      <td>10.0</td>\n      <td>https://www.theguardian.com/commentisfree/2016...</td>\n      <td>debt source college credit card time debt stan...</td>\n    </tr>\n    <tr>\n      <th>103462</th>\n      <td>151911</td>\n      <td>I feared my life lacked meaning. Cancer pushed...</td>\n      <td>Guardian</td>\n      <td>Bradford Frost</td>\n      <td>2016-11-26</td>\n      <td>2016.0</td>\n      <td>11.0</td>\n      <td>https://www.theguardian.com/commentisfree/2016...</td>\n      <td>birthday dank college dorm room school reunion...</td>\n    </tr>\n    <tr>\n      <th>103463</th>\n      <td>151912</td>\n      <td>Texas man serving life sentence innocent of do...</td>\n      <td>Guardian</td>\n      <td>NaN</td>\n      <td>2016-08-20</td>\n      <td>2016.0</td>\n      <td>8.0</td>\n      <td>https://www.theguardian.com/us-news/2016/aug/2...</td>\n      <td>man life sentence murder codefendant prison st...</td>\n    </tr>\n  </tbody>\n</table>\n</div>"
     },
     "metadata": {},
     "execution_count": 65
    }
   ],
   "source": [
    "df3.head()"
   ]
  },
  {
   "cell_type": "code",
   "execution_count": 66,
   "metadata": {},
   "outputs": [],
   "source": [
    "n_topics  = 10"
   ]
  },
  {
   "cell_type": "code",
   "execution_count": 67,
   "metadata": {},
   "outputs": [
    {
     "output_type": "execute_result",
     "data": {
      "text/plain": [
       "NMF(n_components=10, random_state=1)"
      ]
     },
     "metadata": {},
     "execution_count": 67
    }
   ],
   "source": [
    "from sklearn.feature_extraction.text import CountVectorizer, TfidfVectorizer\n",
    "vec = TfidfVectorizer(max_features=5000, stop_words=\"english\", max_df=0.95, min_df=2)\n",
    "features1 = vec.fit_transform(df1.content)\n",
    "features2 = vec.fit_transform(df2.content)\n",
    "features3 = vec.fit_transform(df3.content)\n",
    "\n",
    "from sklearn.decomposition import NMF\n",
    "cls = NMF(n_components=n_topics, random_state=1)\n",
    "cls.fit(features1)\n",
    "cls.fit(features2)\n",
    "cls.fit(features3)"
   ]
  },
  {
   "cell_type": "code",
   "execution_count": 68,
   "metadata": {},
   "outputs": [
    {
     "output_type": "stream",
     "name": "stdout",
     "text": [
      "0 people book life year thing day time family child friend school mother man way parent \n1 film movie song music album fan actor band artist festival story release director star character \n2 campaign election party voter vote candidate nominee debate poll state president policy convention email senator \n3 player game team season club manager football coach ball match goal fan thunder league time \n4 woman man gender girl gap harassment sex assault health right dress pay virus future family \n5 police officer violence city shooting gun video protest protester people gang killing rally man member \n6 athlete law judge court case prosecutor pipeline lawsuit prison state charge official sport trial attorney \n7 company trade driver rate business technology market space government world economy climate year car report \n8 refugee government country border child people official year family camp crackdown campaign deal resettlement friend \n9 force civilian city rebel regime fighter war ceasefire government airstrike area militia troop resident strike \n"
     ]
    }
   ],
   "source": [
    "feature_names = vec.get_feature_names()\n",
    "n_top_words = 15\n",
    "for i, topic_vec in enumerate(cls.components_):\n",
    "    print(i, end=' ')\n",
    "    for fid in topic_vec.argsort()[-1:-n_top_words-1:-1]:\n",
    "        print(feature_names[fid], end=' ')\n",
    "    print()"
   ]
  },
  {
   "cell_type": "code",
   "execution_count": 69,
   "metadata": {},
   "outputs": [],
   "source": [
    "new_articles = [\n",
    "    \"The Atlanta Falcons will never win a super bowl\",\n",
    "    \"Germany scored 7 goals against Brazil in worldcup semi-finals\"\n",
    "]"
   ]
  },
  {
   "cell_type": "code",
   "execution_count": 70,
   "metadata": {},
   "outputs": [
    {
     "output_type": "execute_result",
     "data": {
      "text/plain": [
       "array([3, 9])"
      ]
     },
     "metadata": {},
     "execution_count": 70
    }
   ],
   "source": [
    "cls.transform(vec.transform(new_articles)).argsort(axis=1)[:,-1]"
   ]
  },
  {
   "cell_type": "code",
   "execution_count": null,
   "metadata": {},
   "outputs": [],
   "source": []
  }
 ]
}