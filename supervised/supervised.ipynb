{
 "cells": [
  {
   "cell_type": "code",
   "execution_count": 23,
   "metadata": {},
   "outputs": [],
   "source": [
    "#This file creates the classifier to detect fake news\n",
    "import numpy as np\n",
    "import pandas as pd\n",
    "import itertools\n",
    "from sklearn.model_selection import train_test_split\n",
    "from sklearn.feature_extraction.text import TfidfVectorizer\n",
    "from sklearn.linear_model import PassiveAggressiveClassifier, LogisticRegression\n",
    "from sklearn.tree import DecisionTreeClassifier\n",
    "from sklearn.metrics import accuracy_score, confusion_matrix, average_precision_score, recall_score, f1_score\n",
    "import pickle\n",
    "import spacy\n",
    "nlp = spacy.load(\"en_core_web_sm\", disable=['parser', 'ner'])"
   ]
  },
  {
   "cell_type": "code",
   "execution_count": 6,
   "metadata": {},
   "outputs": [],
   "source": [
    "def remove_nouns(texts):\n",
    "    output = []\n",
    "    for doc in nlp.pipe(texts):\n",
    "        noun_text = \" \".join(token.lemma_ for token in doc if token.pos_ == 'NOUN')\n",
    "        output.append(noun_text)\n",
    "    return output"
   ]
  },
  {
   "cell_type": "code",
   "execution_count": 7,
   "metadata": {},
   "outputs": [],
   "source": [
    "#load csv of data\n",
    "\n",
    "##Load Fake Data set and give it a label of 1 \n",
    "fake_df = pd.read_csv('datasets/Fake.csv')\n",
    "fake_df['label'] = 1\n",
    "\n",
    "true_df = pd.read_csv('datasets/True.csv')\n",
    "true_df['label'] = 0\n",
    "\n",
    "labeled_df = pd.concat([fake_df, true_df])\n",
    "labeled_df = labeled_df.sample(frac=1).reset_index(drop=True)\n",
    "labeled_df['text'] = remove_nouns(labeled_df['text'])\n",
    "##Save a copy of labled dataset for ease of use next time\n",
    "labeled_df.to_csv('datasets/labeled.csv')\n"
   ]
  },
  {
   "cell_type": "code",
   "execution_count": 8,
   "metadata": {},
   "outputs": [],
   "source": [
    "#grab labels\n",
    "labels = labeled_df.label"
   ]
  },
  {
   "cell_type": "code",
   "execution_count": 9,
   "metadata": {},
   "outputs": [],
   "source": [
    "#Split dataset\n",
    "x_train, x_test, y_train, y_test = train_test_split(labeled_df['text'], labels, test_size = 0.2, random_state = 7)"
   ]
  },
  {
   "cell_type": "code",
   "execution_count": 11,
   "metadata": {},
   "outputs": [],
   "source": [
    "#initialize TFIDF\n",
    "tfidf_vectorizer=TfidfVectorizer(stop_words='english', max_df=0.7)"
   ]
  },
  {
   "cell_type": "code",
   "execution_count": 12,
   "metadata": {},
   "outputs": [],
   "source": [
    "#Vectorize test and train set\n",
    "tfidf_train=tfidf_vectorizer.fit_transform(x_train) \n",
    "tfidf_test=tfidf_vectorizer.transform(x_test)"
   ]
  },
  {
   "cell_type": "code",
   "execution_count": 13,
   "metadata": {},
   "outputs": [
    {
     "data": {
      "text/plain": [
       "PassiveAggressiveClassifier(max_iter=50)"
      ]
     },
     "execution_count": 13,
     "metadata": {},
     "output_type": "execute_result"
    }
   ],
   "source": [
    "#Create the Classfier\n",
    "pac=PassiveAggressiveClassifier(max_iter=50)\n",
    "pac.fit(tfidf_train, y_train)"
   ]
  },
  {
   "cell_type": "code",
   "execution_count": 16,
   "metadata": {},
   "outputs": [
    {
     "name": "stdout",
     "output_type": "stream",
     "text": [
      "Accuracy: 94.24%\n",
      "Precision: 0.9196\n",
      "Recall: 0.9515\n",
      "F1 Score: 0.9456\n"
     ]
    }
   ],
   "source": [
    "#Test Classfier\n",
    "y_pred = pac.predict(tfidf_test)\n",
    "accuracy = accuracy_score(y_test,y_pred)\n",
    "precision = average_precision_score(y_test,y_pred)\n",
    "recall = recall_score(y_test,y_pred)\n",
    "f1 = f1_score(y_test,y_pred)\n",
    "print(f'Accuracy: {round(accuracy*100,2)}%')\n",
    "print('Precision: {}'.format(round(precision,4)))\n",
    "print('Recall: {}'.format(round(recall,4)))\n",
    "print('F1 Score: {}'.format(round(f1,4)))"
   ]
  },
  {
   "cell_type": "code",
   "execution_count": 17,
   "metadata": {},
   "outputs": [
    {
     "data": {
      "text/plain": [
       "array([[4491,  229],\n",
       "       [ 288, 3972]])"
      ]
     },
     "execution_count": 17,
     "metadata": {},
     "output_type": "execute_result"
    }
   ],
   "source": [
    "#Create confusion Matrix\n",
    "#FORMAT:\n",
    "#   True Pos, False Neg\n",
    "#   False Pos, True Neg\n",
    "confusion_matrix(y_test,y_pred, labels=[1, 0])"
   ]
  },
  {
   "cell_type": "code",
   "execution_count": 18,
   "metadata": {},
   "outputs": [],
   "source": [
    "#Save PAC classifer\n",
    "pickle.dump(pac, open('pac_nouns_removed.pkl', 'wb'))"
   ]
  },
  {
   "cell_type": "code",
   "execution_count": 19,
   "metadata": {},
   "outputs": [],
   "source": [
    "#Save Vectorizer\n",
    "pickle.dump(tfidf_vectorizer, open('tfidf_nouns_removed.pkl', 'wb'))"
   ]
  },
  {
   "cell_type": "code",
   "execution_count": 26,
   "metadata": {},
   "outputs": [
    {
     "data": {
      "text/plain": [
       "DecisionTreeClassifier(max_depth=30)"
      ]
     },
     "execution_count": 26,
     "metadata": {},
     "output_type": "execute_result"
    }
   ],
   "source": [
    "tree=DecisionTreeClassifier(max_depth=30)\n",
    "tree.fit(tfidf_train, y_train)"
   ]
  },
  {
   "cell_type": "code",
   "execution_count": 27,
   "metadata": {},
   "outputs": [
    {
     "name": "stdout",
     "output_type": "stream",
     "text": [
      "Accuracy: 86.54%\n",
      "Precision: 0.821\n",
      "Recall: 0.8947\n",
      "F1 Score: 0.8748\n"
     ]
    }
   ],
   "source": [
    "y_pred = tree.predict(tfidf_test)\n",
    "accuracy = accuracy_score(y_test,y_pred)\n",
    "precision = average_precision_score(y_test,y_pred)\n",
    "recall = recall_score(y_test,y_pred)\n",
    "f1 = f1_score(y_test,y_pred)\n",
    "print(f'Accuracy: {round(accuracy*100,2)}%')\n",
    "print('Precision: {}'.format(round(precision,4)))\n",
    "print('Recall: {}'.format(round(recall,4)))\n",
    "print('F1 Score: {}'.format(round(f1,4)))"
   ]
  },
  {
   "cell_type": "code",
   "execution_count": 22,
   "metadata": {},
   "outputs": [
    {
     "data": {
      "text/plain": [
       "array([[4023,  697],\n",
       "       [1108, 3152]])"
      ]
     },
     "execution_count": 22,
     "metadata": {},
     "output_type": "execute_result"
    }
   ],
   "source": [
    "confusion_matrix(y_test,y_pred, labels=[1, 0])"
   ]
  },
  {
   "cell_type": "code",
   "execution_count": 28,
   "metadata": {},
   "outputs": [
    {
     "data": {
      "text/plain": [
       "LogisticRegression()"
      ]
     },
     "execution_count": 28,
     "metadata": {},
     "output_type": "execute_result"
    }
   ],
   "source": [
    "log=LogisticRegression()\n",
    "log.fit(tfidf_train, y_train)"
   ]
  },
  {
   "cell_type": "code",
   "execution_count": 29,
   "metadata": {},
   "outputs": [
    {
     "name": "stdout",
     "output_type": "stream",
     "text": [
      "Accuracy: 93.61%\n",
      "Precision: 0.9115\n",
      "Recall: 0.9453\n",
      "F1 Score: 0.9396\n"
     ]
    }
   ],
   "source": [
    "y_pred = log.predict(tfidf_test)\n",
    "accuracy = accuracy_score(y_test,y_pred)\n",
    "precision = average_precision_score(y_test,y_pred)\n",
    "recall = recall_score(y_test,y_pred)\n",
    "f1 = f1_score(y_test,y_pred)\n",
    "print(f'Accuracy: {round(accuracy*100,2)}%')\n",
    "print('Precision: {}'.format(round(precision,4)))\n",
    "print('Recall: {}'.format(round(recall,4)))\n",
    "print('F1 Score: {}'.format(round(f1,4)))"
   ]
  },
  {
   "cell_type": "code",
   "execution_count": null,
   "metadata": {},
   "outputs": [],
   "source": []
  }
 ],
 "metadata": {
  "kernelspec": {
   "display_name": "Python 3",
   "language": "python",
   "name": "python3"
  },
  "language_info": {
   "codemirror_mode": {
    "name": "ipython",
    "version": 3
   },
   "file_extension": ".py",
   "mimetype": "text/x-python",
   "name": "python",
   "nbconvert_exporter": "python",
   "pygments_lexer": "ipython3",
   "version": "3.8.1"
  }
 },
 "nbformat": 4,
 "nbformat_minor": 4
}
